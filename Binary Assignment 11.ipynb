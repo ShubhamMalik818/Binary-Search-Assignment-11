{
 "cells": [
  {
   "cell_type": "code",
   "execution_count": null,
   "id": "88614ca6-9942-4301-9126-467dc4a8be62",
   "metadata": {},
   "outputs": [],
   "source": [
    "Question 1\n",
    "\n",
    "Given a non-negative integer `x`, return the square root of `x` rounded down to the nearest integer. The returned integer should \n",
    "be non-negative as well.\n",
    "\n",
    "You must not use any built-in exponent function or operator.\n",
    "\n",
    "- For example, do not use `pow(x, 0.5)` in c++ or `x ** 0.5` in python.\n",
    "\n",
    "Example 1:\n",
    "\n",
    "Input: x = 4\n",
    "Output: 2\n",
    "Explanation: The square root of 4 is 2, so we return 2.\n",
    "\n",
    "Example 2:\n",
    "Input: x = 8\n",
    "Output: 2\n",
    "Explanation: The square root of 8 is 2.82842..., and since we round it down to the nearest integer, 2 is returned."
   ]
  },
  {
   "cell_type": "code",
   "execution_count": 1,
   "id": "4f2c3774-4807-4c91-91cc-d25928a7398c",
   "metadata": {},
   "outputs": [],
   "source": [
    "def mySqrt(x):\n",
    "    if x == 0:\n",
    "        return 0\n",
    "\n",
    "    left, right = 1, x\n",
    "    while left <= right:\n",
    "        mid = left + (right - left) // 2\n",
    "        if mid * mid > x:\n",
    "            right = mid - 1\n",
    "        else:\n",
    "            left = mid + 1\n",
    "\n",
    "    return right"
   ]
  },
  {
   "cell_type": "code",
   "execution_count": 2,
   "id": "2366e2ac-d5d6-4623-b315-99f7fa8778fb",
   "metadata": {},
   "outputs": [
    {
     "name": "stdout",
     "output_type": "stream",
     "text": [
      "2\n",
      "2\n"
     ]
    }
   ],
   "source": [
    "print(mySqrt(4))  # Output: 2\n",
    "print(mySqrt(8))  # Output: 2"
   ]
  },
  {
   "cell_type": "code",
   "execution_count": null,
   "id": "9986c92e-d1b1-4b1e-aa41-793581adf498",
   "metadata": {},
   "outputs": [],
   "source": [
    "Question 2\n",
    "\n",
    "A peak element is an element that is strictly greater than its neighbors.\n",
    "\n",
    "Given a 0-indexed integer array `nums`, find a peak element, and return its index. If the array contains multiple peaks, return \n",
    "the index to any of the peaks.\n",
    "\n",
    "You may imagine that `nums[-1] = nums[n] = -∞`. In other words, an element is always considered to be strictly greater than a neighbor \n",
    "that is outside the array.\n",
    "\n",
    "You must write an algorithm that runs in `O(log n)` time.\n",
    "\n",
    "Example 1:\n",
    "\n",
    "Input: nums = [1,2,3,1]\n",
    "Output: 2\n",
    "Explanation: 3 is a peak element and your function should return the index number 2.\n",
    "\n",
    "Example 2:\n",
    "    \n",
    "Input: nums = [1,2,1,3,5,6,4]\n",
    "Output: 5\n",
    "Explanation: Your function can return either index number 1 where the peak element is 2, or index number 5 where the peak element is 6."
   ]
  },
  {
   "cell_type": "code",
   "execution_count": 3,
   "id": "d62c46d1-c359-4eb6-8feb-4b5ce5502591",
   "metadata": {},
   "outputs": [],
   "source": [
    "def findPeakElement(nums):\n",
    "    left, right = 0, len(nums) - 1\n",
    "\n",
    "    while left < right:\n",
    "        mid = left + (right - left) // 2\n",
    "\n",
    "        if nums[mid] > nums[mid + 1]:\n",
    "            right = mid\n",
    "        else:\n",
    "            left = mid + 1\n",
    "\n",
    "    return left"
   ]
  },
  {
   "cell_type": "code",
   "execution_count": 4,
   "id": "9b816b9d-a50f-4c41-b9ca-83410fd15020",
   "metadata": {},
   "outputs": [
    {
     "name": "stdout",
     "output_type": "stream",
     "text": [
      "2\n",
      "5\n"
     ]
    }
   ],
   "source": [
    "print(findPeakElement([1, 2, 3, 1]))  # Output: 2\n",
    "print(findPeakElement([1, 2, 1, 3, 5, 6, 4]))  # Output: 5"
   ]
  },
  {
   "cell_type": "code",
   "execution_count": null,
   "id": "4a445bed-c139-4003-b87b-530378d82273",
   "metadata": {},
   "outputs": [],
   "source": [
    "Question 3\n",
    "\n",
    "Given an array `nums` containing `n` distinct numbers in the range `[0, n]`, return the only number in the range that is missing \n",
    "from the array.\n",
    "\n",
    "Example 1:\n",
    "\n",
    "Input: nums = [3,0,1]\n",
    "Output: 2\n",
    "Explanation: n = 3 since there are 3 numbers, so all numbers are in the range [0,3]. 2 is the missing number in the range since \n",
    "it does not appear in nums.\n",
    "\n",
    "Example 2:\n",
    "    \n",
    "Input: nums = [0,1]\n",
    "Output: 2\n",
    "Explanation: n = 2 since there are 2 numbers, so all numbers are in the range [0,2]. 2 is the missing number in the range since it \n",
    "does not appear in nums.\n",
    "\n",
    "\n",
    "Example 3:\n",
    "    \n",
    "Input: nums = [9,6,4,2,3,5,7,0,1]\n",
    "Output: 8\n",
    "Explanation: n = 9 since there are 9 numbers, so all numbers are in the range [0,9]. 8 is the missing number in the range since \n",
    "it does not appear in nums."
   ]
  },
  {
   "cell_type": "code",
   "execution_count": 5,
   "id": "4625f5b3-111a-4233-847c-4dc87860b6fb",
   "metadata": {},
   "outputs": [],
   "source": [
    "def missingNumber(nums):\n",
    "    n = len(nums)\n",
    "    expected_sum = (n * (n + 1)) // 2\n",
    "    actual_sum = sum(nums)\n",
    "    return expected_sum - actual_sum"
   ]
  },
  {
   "cell_type": "code",
   "execution_count": 6,
   "id": "ba38501b-0c09-460e-beff-8759b127c473",
   "metadata": {},
   "outputs": [
    {
     "name": "stdout",
     "output_type": "stream",
     "text": [
      "2\n",
      "2\n",
      "8\n"
     ]
    }
   ],
   "source": [
    "print(missingNumber([3, 0, 1]))  # Output: 2\n",
    "print(missingNumber([0, 1]))  # Output: 2\n",
    "print(missingNumber([9, 6, 4, 2, 3, 5, 7, 0, 1]))  # Output: 8"
   ]
  },
  {
   "cell_type": "code",
   "execution_count": null,
   "id": "de2c56a2-ac9c-4eef-8d44-af0980bbd9fb",
   "metadata": {},
   "outputs": [],
   "source": [
    "Question 4\n",
    "\n",
    "Given an array of integers `nums` containing `n + 1` integers where each integer is in the range `[1, n]` inclusive.\n",
    "\n",
    "There is only one repeated number in `nums`, return this repeated number.\n",
    "\n",
    "You must solve the problem without modifying the array `nums` and uses only constant extra space.\n",
    "\n",
    "Example 1:\n",
    "\n",
    "Input: nums = [1,3,4,2,2]\n",
    "Output: 2\n",
    " \n",
    "Example 2:\n",
    "\n",
    "Input: nums = [3,1,3,4,2]\n",
    "Output: 3"
   ]
  },
  {
   "cell_type": "code",
   "execution_count": 7,
   "id": "fcc2b6f3-6878-45b3-9642-bd3dcc8c276a",
   "metadata": {},
   "outputs": [],
   "source": [
    "def findDuplicate(nums):\n",
    "    slow = nums[0]\n",
    "    fast = nums[0]\n",
    "\n",
    "    # Move slow one step at a time and fast two steps at a time\n",
    "    while True:\n",
    "        slow = nums[slow]\n",
    "        fast = nums[nums[fast]]\n",
    "        if slow == fast:\n",
    "            break\n",
    "\n",
    "    # Reset fast to the first element\n",
    "    fast = nums[0]\n",
    "\n",
    "    # Move slow and fast one step at a time until they meet again\n",
    "    while slow != fast:\n",
    "        slow = nums[slow]\n",
    "        fast = nums[fast]\n",
    "\n",
    "    return slow"
   ]
  },
  {
   "cell_type": "code",
   "execution_count": 8,
   "id": "19ed2b4f-6b65-4ac1-b51a-84359704a9c2",
   "metadata": {},
   "outputs": [
    {
     "name": "stdout",
     "output_type": "stream",
     "text": [
      "2\n",
      "3\n"
     ]
    }
   ],
   "source": [
    "print(findDuplicate([1, 3, 4, 2, 2]))  # Output: 2\n",
    "print(findDuplicate([3, 1, 3, 4, 2]))  # Output: 3"
   ]
  },
  {
   "cell_type": "code",
   "execution_count": null,
   "id": "9bb9ddcc-05b4-4eeb-ad60-cd717b631f25",
   "metadata": {},
   "outputs": [],
   "source": [
    "Question 5\n",
    "\n",
    "Given two integer arrays `nums1` and `nums2`, return an array of their intersection. Each element in the result must be unique \n",
    "and you may return the result in any order.\n",
    "\n",
    "Example 1:\n",
    "\n",
    "Input: nums1 = [1,2,2,1], nums2 = [2,2]\n",
    "Output: [2]\n",
    "\n",
    "Example 2:\n",
    "    \n",
    "Input: nums1 = [4,9,5], nums2 = [9,4,9,8,4]\n",
    "Output: [9,4]\n",
    "Explanation: [4,9] is also accepted."
   ]
  },
  {
   "cell_type": "code",
   "execution_count": 9,
   "id": "0cfe69ab-8a08-4bfb-b72c-29a0fb666eaa",
   "metadata": {},
   "outputs": [],
   "source": [
    "def intersection(nums1, nums2):\n",
    "    set1 = set(nums1)\n",
    "    set2 = set(nums2)\n",
    "    intersection = set()\n",
    "\n",
    "    for num in set1:\n",
    "        if num in set2:\n",
    "            intersection.add(num)\n",
    "\n",
    "    return list(intersection)"
   ]
  },
  {
   "cell_type": "code",
   "execution_count": 10,
   "id": "13bd0a21-ed8e-4fc4-bd47-5f2f111d09e3",
   "metadata": {},
   "outputs": [
    {
     "name": "stdout",
     "output_type": "stream",
     "text": [
      "[2]\n",
      "[9, 4]\n"
     ]
    }
   ],
   "source": [
    "print(intersection([1, 2, 2, 1], [2, 2]))  # Output: [2]\n",
    "print(intersection([4, 9, 5], [9, 4, 9, 8, 4]))  # Output: [9, 4]"
   ]
  },
  {
   "cell_type": "code",
   "execution_count": null,
   "id": "c945bb4a-deea-44ef-8b47-795654bb857d",
   "metadata": {},
   "outputs": [],
   "source": [
    "Question 6\n",
    "\n",
    "Suppose an array of length `n` sorted in ascending order is **rotated** between `1` and `n` times. For example, the array \n",
    "`nums = [0,1,2,4,5,6,7]` might become:\n",
    "\n",
    "- `[4,5,6,7,0,1,2]` if it was rotated `4` times.\n",
    "- `[0,1,2,4,5,6,7]` if it was rotated `7` times.\n",
    "\n",
    "Notice that **rotating** an array `[a[0], a[1], a[2], ..., a[n-1]]` 1 time results in the array `[a[n-1], a[0], a[1], a[2], ..., a[n-2]]`.\n",
    "\n",
    "Given the sorted rotated array `nums` of unique elements, return the minimum element of this array.\n",
    "\n",
    "You must write an algorithm that runs in `O(log n) time.`\n",
    "\n",
    "Example 1:\n",
    "\n",
    "Input: nums = [3,4,5,1,2]\n",
    "Output: 1\n",
    "Explanation: The original array was [1,2,3,4,5] rotated 3 times.\n",
    "\n",
    "\n",
    "Example 2:\n",
    "    \n",
    "Input: nums = [4,5,6,7,0,1,2]\n",
    "Output: 0\n",
    "Explanation: The original array was [0,1,2,4,5,6,7] and it was rotated 4 times.\n",
    "\n",
    "Example 3:\n",
    "    \n",
    "Input: nums = [11,13,15,17]\n",
    "Output: 11\n",
    "Explanation: The original array was [11,13,15,17] and it was rotated 4 times."
   ]
  },
  {
   "cell_type": "code",
   "execution_count": 11,
   "id": "f0bd7b8b-e5eb-4bf0-aedf-47cc41823a29",
   "metadata": {},
   "outputs": [],
   "source": [
    "def findMin(nums):\n",
    "    left = 0\n",
    "    right = len(nums) - 1\n",
    "\n",
    "    while left < right:\n",
    "        mid = left + (right - left) // 2\n",
    "\n",
    "        if nums[mid] < nums[right]:\n",
    "            right = mid\n",
    "        else:\n",
    "            left = mid + 1\n",
    "\n",
    "    return nums[left]"
   ]
  },
  {
   "cell_type": "code",
   "execution_count": 12,
   "id": "bd261c29-6267-4c29-bd64-08db9acd0c91",
   "metadata": {},
   "outputs": [
    {
     "name": "stdout",
     "output_type": "stream",
     "text": [
      "1\n",
      "0\n",
      "11\n"
     ]
    }
   ],
   "source": [
    "print(findMin([3, 4, 5, 1, 2]))  # Output: 1\n",
    "print(findMin([4, 5, 6, 7, 0, 1, 2]))  # Output: 0\n",
    "print(findMin([11, 13, 15, 17]))  # Output: 11"
   ]
  },
  {
   "cell_type": "code",
   "execution_count": null,
   "id": "557fa88a-0bcf-4416-b94d-3201474f389e",
   "metadata": {},
   "outputs": [],
   "source": [
    "Question 7\n",
    "\n",
    "Given an array of integers `nums` sorted in non-decreasing order, find the starting and ending position of a given `target` value.\n",
    "\n",
    "If `target` is not found in the array, return `[-1, -1]`.\n",
    "\n",
    "You must write an algorithm with `O(log n)` runtime complexity.\n",
    "\n",
    "Example 1:\n",
    "\n",
    "Input: nums = [5,7,7,8,8,10], target = 8\n",
    "Output: [3,4]\n",
    "\n",
    "Example 2:\n",
    "\n",
    "Input: nums = [5,7,7,8,8,10], target = 6\n",
    "Output: [-1,-1]\n",
    "\n",
    "Example 3:\n",
    "    \n",
    "Input: nums = [], target = 0\n",
    "Output: [-1,-1]"
   ]
  },
  {
   "cell_type": "code",
   "execution_count": 15,
   "id": "9fe92ab9-05de-4365-9d55-e26183b7f775",
   "metadata": {},
   "outputs": [],
   "source": [
    "def searchRange(nums, target):\n",
    "    left = 0\n",
    "    right = len(nums) - 1\n",
    "\n",
    "    # Perform the leftmost binary search\n",
    "    while left <= right:\n",
    "        mid = left + (right - left) // 2\n",
    "\n",
    "        if nums[mid] >= target:\n",
    "            right = mid - 1\n",
    "        else:\n",
    "            left = mid + 1\n",
    "\n",
    "    # Check if target is not found\n",
    "    if left >= len(nums) or nums[left] != target:\n",
    "        return [-1, -1]\n",
    "\n",
    "    # Update right to the last index of the array\n",
    "    right = len(nums) - 1\n",
    "\n",
    "    # Perform the rightmost binary search\n",
    "    while left < right:\n",
    "        mid = left + (right - left + 1) // 2\n",
    "\n",
    "        if nums[mid] > target:\n",
    "            right = mid - 1\n",
    "        else:\n",
    "            left = mid\n",
    "\n",
    "    return [left, right]"
   ]
  },
  {
   "cell_type": "code",
   "execution_count": 16,
   "id": "06c4cbd8-bd9f-45fb-bf0f-7253df64decd",
   "metadata": {},
   "outputs": [
    {
     "name": "stdout",
     "output_type": "stream",
     "text": [
      "[4, 4]\n",
      "[-1, -1]\n",
      "[-1, -1]\n"
     ]
    }
   ],
   "source": [
    "print(searchRange([5, 7, 7, 8, 8, 10], 8))  # Output: [3, 4]\n",
    "print(searchRange([5, 7, 7, 8, 8, 10], 6))  # Output: [-1, -1]\n",
    "print(searchRange([], 0))  # Output: [-1, -1]"
   ]
  },
  {
   "cell_type": "code",
   "execution_count": null,
   "id": "a755cb94-4aea-470e-9e09-d2f0e518d3ff",
   "metadata": {},
   "outputs": [],
   "source": [
    "Question 8\n",
    "\n",
    "Given two integer arrays `nums1` and `nums2`, return an array of their intersection. Each element in the result must appear as \n",
    "many times as it shows in both arrays and you may return the result in any order.\n",
    "\n",
    "Example 1:\n",
    "\n",
    "Input: nums1 = [1,2,2,1], nums2 = [2,2]\n",
    "Output: [2,2]\n",
    "\n",
    "Example2:\n",
    "    \n",
    "Input: nums1 = [4,9,5], nums2 = [9,4,9,8,4]\n",
    "Output: [4,9]\n",
    "Explanation: [9,4] is also accepted."
   ]
  },
  {
   "cell_type": "code",
   "execution_count": 17,
   "id": "6d76fbfd-576f-4ea1-a891-256aee9368ca",
   "metadata": {},
   "outputs": [],
   "source": [
    "from collections import defaultdict\n",
    "\n",
    "def intersect(nums1, nums2):\n",
    "    frequency = defaultdict(int)\n",
    "\n",
    "    for num in nums1:\n",
    "        frequency[num] += 1\n",
    "\n",
    "    result = []\n",
    "\n",
    "    for num in nums2:\n",
    "        if frequency[num] > 0:\n",
    "            result.append(num)\n",
    "            frequency[num] -= 1\n",
    "\n",
    "    return result"
   ]
  },
  {
   "cell_type": "code",
   "execution_count": 18,
   "id": "b6f44b0d-0675-4708-9c65-7be504579442",
   "metadata": {},
   "outputs": [
    {
     "name": "stdout",
     "output_type": "stream",
     "text": [
      "[2, 2]\n",
      "[9, 4]\n"
     ]
    }
   ],
   "source": [
    "print(intersect([1, 2, 2, 1], [2, 2]))  # Output: [2, 2]\n",
    "print(intersect([4, 9, 5], [9, 4, 9, 8, 4]))  # Output: [4, 9]"
   ]
  }
 ],
 "metadata": {
  "kernelspec": {
   "display_name": "Python 3 (ipykernel)",
   "language": "python",
   "name": "python3"
  },
  "language_info": {
   "codemirror_mode": {
    "name": "ipython",
    "version": 3
   },
   "file_extension": ".py",
   "mimetype": "text/x-python",
   "name": "python",
   "nbconvert_exporter": "python",
   "pygments_lexer": "ipython3",
   "version": "3.10.8"
  }
 },
 "nbformat": 4,
 "nbformat_minor": 5
}
